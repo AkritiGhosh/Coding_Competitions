{
  "nbformat": 4,
  "nbformat_minor": 0,
  "metadata": {
    "colab": {
      "name": "BotSavesPrincess",
      "provenance": [],
      "include_colab_link": true
    },
    "kernelspec": {
      "name": "python3",
      "display_name": "Python 3"
    }
  },
  "cells": [
    {
      "cell_type": "markdown",
      "metadata": {
        "id": "view-in-github",
        "colab_type": "text"
      },
      "source": [
        "<a href=\"https://colab.research.google.com/github/AkritiGhosh/Coding_Competitions/blob/master/BotSavesPrincess.ipynb\" target=\"_parent\"><img src=\"https://colab.research.google.com/assets/colab-badge.svg\" alt=\"Open In Colab\"/></a>"
      ]
    },
    {
      "cell_type": "markdown",
      "metadata": {
        "id": "kkAsdYFtf2ed"
      },
      "source": [
        "# Bot Saves Princess \n",
        "\n",
        "[Link to Challenge](https://www.hackerrank.com/challenges/saveprincess)\n",
        "\n",
        "Princess Peach is trapped in one of the four corners of a square grid. You are in the center of the grid and can move one step at a time in any of the four directions. Can you rescue the princess?\n",
        "\n",
        "\n",
        "**Input format**\n",
        "\n",
        "The first line contains an odd integer N (3 <= N < 100) denoting the size of the grid. This is followed by an NxN grid. Each cell is denoted by '-' (ascii value: 45). The bot position is denoted by 'm' and the princess position is denoted by 'p'.\n",
        "\n",
        "Grid is indexed using Matrix Convention\n",
        "\n",
        "**Output format**\n",
        "\n",
        "Print out the moves you will take to rescue the princess in one go. The moves must be separated by '\\n', a newline. The valid moves are LEFT or RIGHT or UP or DOWN."
      ]
    },
    {
      "cell_type": "code",
      "metadata": {
        "id": "U3bLu3DhBeTP"
      },
      "source": [
        "def displayPathtoPrincess(n,grid):\n",
        "#print all the moves here\n",
        "    # Find p & m\n",
        "    for i in range(len(grid)):\n",
        "        if (grid[i].count('-')) < n:\n",
        "            for j in range(len(grid[i])):\n",
        "                if grid[i][j] == 'p':\n",
        "                    p = [i,j]\n",
        "                elif grid[i][j] == 'm':\n",
        "                    m = [i,j]\n",
        "    \n",
        "    while p[0] > m[0]:\n",
        "        m[0]+=1\n",
        "        print('DOWN')\n",
        "    \n",
        "    while p[1] > m[1]:\n",
        "        m[1]+=1\n",
        "        print('RIGHT')\n",
        "    \n",
        "    while p[0] < m[0]:\n",
        "        m[0]-=1\n",
        "        print('UP')\n",
        "    \n",
        "    while p[1] < m[1]:\n",
        "        m[1]-=1\n",
        "        print('LEFT')"
      ],
      "execution_count": null,
      "outputs": []
    },
    {
      "cell_type": "code",
      "metadata": {
        "id": "mreDv0OtBoJR"
      },
      "source": [
        "p = [0,0]\n",
        "m = [0,0]"
      ],
      "execution_count": null,
      "outputs": []
    },
    {
      "cell_type": "code",
      "metadata": {
        "id": "hqQ3zNXBBaQt"
      },
      "source": [
        "m = int(input())\n",
        "grid = [] \n",
        "for i in range(0, m): \n",
        "    grid.append(input().strip())\n",
        "\n",
        "displayPathtoPrincess(m,grid)"
      ],
      "execution_count": null,
      "outputs": []
    }
  ]
}