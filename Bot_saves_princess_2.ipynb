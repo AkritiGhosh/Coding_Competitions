{
  "nbformat": 4,
  "nbformat_minor": 0,
  "metadata": {
    "colab": {
      "name": "Bot saves princess-2.ipynb",
      "provenance": [],
      "authorship_tag": "ABX9TyOti3HN0YDXI7JXKJytiQde",
      "include_colab_link": true
    },
    "kernelspec": {
      "name": "python3",
      "display_name": "Python 3"
    },
    "language_info": {
      "name": "python"
    }
  },
  "cells": [
    {
      "cell_type": "markdown",
      "metadata": {
        "id": "view-in-github",
        "colab_type": "text"
      },
      "source": [
        "<a href=\"https://colab.research.google.com/github/AkritiGhosh/Coding_Competitions/blob/master/Bot_saves_princess_2.ipynb\" target=\"_parent\"><img src=\"https://colab.research.google.com/assets/colab-badge.svg\" alt=\"Open In Colab\"/></a>"
      ]
    },
    {
      "cell_type": "markdown",
      "metadata": {
        "id": "f3fcq70sgicw"
      },
      "source": [
        "# Bot Saves Princess - 2\n",
        "[Challenge Link](https://www.hackerrank.com/challenges/saveprincess2)\n",
        "\n",
        "Task\n",
        "\n",
        "Complete the function nextMove which takes in 4 parameters - an integer N, integers r and c indicating the row & column position of the bot and the character array grid - and outputs the next move the bot makes to rescue the princess.\n",
        "\n",
        "**Input Format**\n",
        "\n",
        "The first line of the input is N, the size of the board (NxN). The second line of the input contains two space separated integers, which is the position of the bot.\n",
        "\n",
        "Grid is indexed using Matrix Convention\n",
        "\n",
        "The position of the princess is indicated by the character 'p' and the position of the bot is indicated by the character 'm' and each cell is denoted by '-' (ascii value: 45).\n",
        "\n",
        "**Output Format**\n",
        "\n",
        "Output only the next move you take to rescue the princess. Valid moves are LEFT, RIGHT, UP or DOWN\n",
        "\n"
      ]
    },
    {
      "cell_type": "code",
      "metadata": {
        "id": "QvV8LgH1fVA1"
      },
      "source": [
        "def nextMove(n,r,c,grid):\n",
        "    for i in range(len(grid)):\n",
        "        if (grid[i].count('-')) < n:\n",
        "            for j in range(len(grid[i])):\n",
        "                if grid[i][j] == 'p':\n",
        "                    p = [i,j]\n",
        "                elif grid[i][j] == 'm':\n",
        "                    m = [i,j]\n",
        "    \n",
        "    if (abs(p[0]-m[0]) == 0) or (abs(p[0]-m[0]) >= abs(p[1]-m[1])) :\n",
        "        if p[0] > m[0]:\n",
        "            m[0]+=1\n",
        "            return('DOWN')\n",
        "        if p[0] < m[0]:\n",
        "            m[0]-=1\n",
        "            return('UP')\n",
        "    \n",
        "    if (abs(p[1]-m[1]) == 0)  or (abs(p[0]-m[0]) <= abs(p[1]-m[1])) :\n",
        "        if p[1] > m[1]:\n",
        "            m[1]+=1\n",
        "            return('RIGHT')\n",
        "\n",
        "        if p[1] < m[1]:\n",
        "            m[1]-=1\n",
        "            return('LEFT')\n",
        "    \n",
        "         "
      ],
      "execution_count": 1,
      "outputs": []
    },
    {
      "cell_type": "code",
      "metadata": {
        "colab": {
          "base_uri": "https://localhost:8080/",
          "height": 35
        },
        "id": "9MLykYOMhB8S",
        "outputId": "db2c1b96-9e4f-455e-d5eb-e6fc59a79269"
      },
      "source": [
        "n = int(input())\n",
        "r,c = [int(i) for i in input().strip().split()]\n",
        "grid = []\n",
        "for i in range(0, n):\n",
        "    grid.append(input())\n",
        "\n",
        "print(nextMove(n,r,c,grid))\n",
        "\n",
        "\n",
        "\"\"\"\n",
        "SAMPLE INPUT\n",
        "5\n",
        "2 1\n",
        "-----\n",
        "-----\n",
        "-mp--\n",
        "-----\n",
        "-----\n",
        "\"\"\""
      ],
      "execution_count": 2,
      "outputs": [
        {
          "output_type": "execute_result",
          "data": {
            "application/vnd.google.colaboratory.intrinsic+json": {
              "type": "string"
            },
            "text/plain": [
              "'\\nSAMPLE INPUT\\n5\\n2 1\\n-----\\n-----\\n-mp--\\n-----\\n-----\\n'"
            ]
          },
          "metadata": {},
          "execution_count": 2
        }
      ]
    }
  ]
}