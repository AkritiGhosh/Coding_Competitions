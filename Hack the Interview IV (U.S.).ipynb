{
  "nbformat": 4,
  "nbformat_minor": 0,
  "metadata": {
    "colab": {
      "name": " Hack the Interview IV (U.S.).ipynb",
      "provenance": [],
      "collapsed_sections": [],
      "authorship_tag": "ABX9TyO5FTqLYzpVQoDfzMFego35",
      "include_colab_link": true
    },
    "kernelspec": {
      "name": "python3",
      "display_name": "Python 3"
    }
  },
  "cells": [
    {
      "cell_type": "markdown",
      "metadata": {
        "id": "view-in-github",
        "colab_type": "text"
      },
      "source": [
        "<a href=\"https://colab.research.google.com/github/AkritiGhosh/Coding_Competitions/blob/master/Hack%20the%20Interview%20IV%20(U.S.).ipynb\" target=\"_parent\"><img src=\"https://colab.research.google.com/assets/colab-badge.svg\" alt=\"Open In Colab\"/></a>"
      ]
    },
    {
      "cell_type": "markdown",
      "metadata": {
        "id": "wOCwWbnOKPKs",
        "colab_type": "text"
      },
      "source": [
        "\n",
        "# Question : Arrange students\n",
        "A classroom has several students, half of whom are boys and half of whom are girls. You need to arrange all of them in a line for the morning assembly such that the following conditions are satisfied:\n",
        "\n",
        "The students must be in order of non-decreasing height.\n",
        "Two boys or two girls must not be adjacent to each other.\n",
        "You have been given the heights of the boys in the array  and the heights of the girls in the array . Find out whether you can arrange them in an order which satisfies the given conditions. Print \"YES\" if it is possible, or \"NO\" if it is not.\n",
        "\n"
      ]
    },
    {
      "cell_type": "code",
      "metadata": {
        "id": "A8x5jb_kmDsY",
        "colab_type": "code",
        "colab": {}
      },
      "source": [
        "# The function is expected to return a STRING.\n",
        "# The function accepts following parameters:\n",
        "#  1. INTEGER_ARRAY a\n",
        "#  2. INTEGER_ARRAY b\n",
        "#\n",
        "\n",
        "def arrangeStudents(a, b):\n",
        "  a.sort()\n",
        "  b.sort()\n",
        "  flag = 'NO'\n",
        "  for i in range(len(a)-1):\n",
        "    ### Girls first or a first => a, b, a, b, ...\n",
        "    if a[i]<=b[i] and b[i]<=a[i+1]:\n",
        "      flag = 'YES'\n",
        "    else:\n",
        "      flag =  'NO'\n",
        "      break\n",
        "  if flag == 'YES':\n",
        "    return flag\n",
        "  ### Boys first or b first => b, a, b, ...\n",
        "  for i in range(len(a)-1):\n",
        "    if b[i]<=a[i] and a[i]<=b[i+1]:\n",
        "      flag = 'YES'\n",
        "    else:\n",
        "      flag =  'NO'\n",
        "      break\n",
        "  return flag\n"
      ],
      "execution_count": 1,
      "outputs": []
    },
    {
      "cell_type": "code",
      "metadata": {
        "id": "ti2ngyzMmILc",
        "colab_type": "code",
        "colab": {
          "base_uri": "https://localhost:8080/",
          "height": 119
        },
        "outputId": "7fe1db61-ad71-4e8f-8f8d-b44e5d181abe"
      },
      "source": [
        "# The first line of input = no of test cases\n",
        "t = int(input().strip())\n",
        "\n",
        "# For every test case\n",
        "for t_itr in range(t):\n",
        "    ### First line = no of boys/girls or half the number of class strength\n",
        "    n = int(input().strip())\n",
        "    ### Second line = array to height of students (girls/boys)\n",
        "    a = list(map(int, input().rstrip().split()))\n",
        "    ### Third line = array to height of students (girls/boys)\n",
        "    b = list(map(int, input().rstrip().split()))\n",
        "\n",
        "    result = arrangeStudents(a, b)\n",
        "    print(result + '\\n')"
      ],
      "execution_count": 2,
      "outputs": [
        {
          "output_type": "stream",
          "text": [
            "1\n",
            "2\n",
            "1 6 9\n",
            "2 6 9\n",
            "YES\n",
            "\n"
          ],
          "name": "stdout"
        }
      ]
    },
    {
      "cell_type": "code",
      "metadata": {
        "id": "2fYe_vUsmMv6",
        "colab_type": "code",
        "colab": {}
      },
      "source": [
        ""
      ],
      "execution_count": null,
      "outputs": []
    }
  ]
}