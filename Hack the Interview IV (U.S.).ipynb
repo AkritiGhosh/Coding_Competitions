{
  "nbformat": 4,
  "nbformat_minor": 0,
  "metadata": {
    "colab": {
      "name": " Hack the Interview IV (U.S.).ipynb",
      "provenance": [],
      "collapsed_sections": [],
      "authorship_tag": "ABX9TyP7kcVOQDMdIaGbzndOUWeA",
      "include_colab_link": true
    },
    "kernelspec": {
      "name": "python3",
      "display_name": "Python 3"
    }
  },
  "cells": [
    {
      "cell_type": "markdown",
      "metadata": {
        "id": "view-in-github",
        "colab_type": "text"
      },
      "source": [
        "<a href=\"https://colab.research.google.com/github/AkritiGhosh/Coding_Competitions/blob/master/Hack%20the%20Interview%20IV%20(U.S.).ipynb\" target=\"_parent\"><img src=\"https://colab.research.google.com/assets/colab-badge.svg\" alt=\"Open In Colab\"/></a>"
      ]
    },
    {
      "cell_type": "code",
      "metadata": {
        "id": "A8x5jb_kmDsY",
        "colab_type": "code",
        "colab": {}
      },
      "source": [
        "\n",
        "# Complete the 'arrangeStudents' function below.\n",
        "#\n",
        "# The function is expected to return a STRING.\n",
        "# The function accepts following parameters:\n",
        "#  1. INTEGER_ARRAY a\n",
        "#  2. INTEGER_ARRAY b\n",
        "#\n",
        "\n",
        "def arrangeStudents(a, b):\n",
        "  a.sort()\n",
        "  b.sort()\n",
        "  flag = 'NO'\n",
        "  for i in range(len(a)-1):\n",
        "    ### Girls first or a first => a, b, a, b, ...\n",
        "    if a[i]<=b[i] and b[i]<=a[i+1]:\n",
        "      flag = 'YES'\n",
        "    else:\n",
        "      flag =  'NO'\n",
        "      break\n",
        "  if flag == 'YES':\n",
        "    return flag\n",
        "  ### Boys first or b first => b, a, b, ...\n",
        "  for i in range(len(a)-1):\n",
        "    if b[i]<=a[i] and a[i]<=b[i+1]:\n",
        "      flag = 'YES'\n",
        "    else:\n",
        "      flag =  'NO'\n",
        "      break\n",
        "  return flag\n"
      ],
      "execution_count": 25,
      "outputs": []
    },
    {
      "cell_type": "code",
      "metadata": {
        "id": "ti2ngyzMmILc",
        "colab_type": "code",
        "colab": {
          "base_uri": "https://localhost:8080/",
          "height": 136
        },
        "outputId": "7cfa2224-1945-427d-8369-5898d4ea52f6"
      },
      "source": [
        "# The first line of input = no of test cases\n",
        "t = int(input().strip())\n",
        "\n",
        "# For every test case\n",
        "for t_itr in range(t):\n",
        "    ### First line = no of boys/girls or half the number of class strength\n",
        "    n = int(input().strip())\n",
        "    ### Second line = array to height of students (girls/boys)\n",
        "    a = list(map(int, input().rstrip().split()))\n",
        "    ### Third line = array to height of students (girls/boys)\n",
        "    b = list(map(int, input().rstrip().split()))\n",
        "\n",
        "    result = arrangeStudents(a, b)\n",
        "    print(result + '\\n')"
      ],
      "execution_count": 26,
      "outputs": [
        {
          "output_type": "stream",
          "text": [
            "1\n",
            "2\n",
            "9 4\n",
            "3 7\n",
            "4 3 9\n",
            "YES\n",
            "\n"
          ],
          "name": "stdout"
        }
      ]
    },
    {
      "cell_type": "code",
      "metadata": {
        "id": "2fYe_vUsmMv6",
        "colab_type": "code",
        "colab": {}
      },
      "source": [
        ""
      ],
      "execution_count": null,
      "outputs": []
    }
  ]
}