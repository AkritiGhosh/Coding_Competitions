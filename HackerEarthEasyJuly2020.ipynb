{
  "nbformat": 4,
  "nbformat_minor": 0,
  "metadata": {
    "colab": {
      "name": "HackerEarthEasyJuly2020.ipynb",
      "provenance": [],
      "collapsed_sections": [],
      "authorship_tag": "ABX9TyOyTVRuJFytrRaILlQYeTEE",
      "include_colab_link": true
    },
    "kernelspec": {
      "name": "python3",
      "display_name": "Python 3"
    }
  },
  "cells": [
    {
      "cell_type": "markdown",
      "metadata": {
        "id": "view-in-github",
        "colab_type": "text"
      },
      "source": [
        "<a href=\"https://colab.research.google.com/github/AkritiGhosh/HackerEarth_Competitions/blob/master/HackerEarthEasyJuly2020.ipynb\" target=\"_parent\"><img src=\"https://colab.research.google.com/assets/colab-badge.svg\" alt=\"Open In Colab\"/></a>"
      ]
    },
    {
      "cell_type": "markdown",
      "metadata": {
        "id": "R1OtB93NM6x9",
        "colab_type": "text"
      },
      "source": [
        "# Question 1 : Profits by Car"
      ]
    },
    {
      "cell_type": "markdown",
      "metadata": {
        "id": "vxlfoVxlM6u3",
        "colab_type": "text"
      },
      "source": [
        "You are a car seller. You have N cars and the profit for each of the cars is given by an array P. The profit of cars are P1, P2, P3, ... , PN. Since you got a huge profit in the last month so you decide to get (N-1) more sets of such cars. You already have one car. Now, you have N^2 cars. Basically, there are N number of cars of each profit such as N cars for profit P1, N cars of profit P2, and so on up to  cars of profit PN.\n",
        "\n",
        "You can perform the following operations any number of times:\n",
        "\n",
        "*   If the last car is sold for profit P, then you can sell a car for profit PC>P.\n",
        "\n",
        "**Note:** You can select a car of any profit in the first operation as there are no cars that are sold earlier.\n",
        "\n",
        "Find out the maximum profit that you can make.\n",
        "\n",
        "For example, N=4 and prices are P1, P2, P3, P4. Since N is 4, therefore you can have four sets of cars and the prices are P1, P2, P3, P4, P1, P2, P3, P4, P1, P2, P3, P4, P1, P2, P3, P4.\n",
        "\n",
        "See the sample explanation for more details. \n",
        "\n",
        "## Input format\n",
        "\n",
        "*   The first line for each test case consists of an integer N.\n",
        "*   The second line consists of N space-separated integers P1, P2, P3, ..., PN.\n",
        "\n",
        "## Output format\n",
        "\n",
        "For each test case, print a single integer denoting the maximum amount of profit that you can make.\n",
        "\n",
        "## Explanation  N=3 ; P[ ] = 1 2 3\n",
        "Since N=3 here jetha will have 3 sets of cars so cars he will have are of profit 1,2,3,1,2,3,1,2,3.\n",
        "\n",
        "He has three choices for the first car so suppose that he sell a car with profit 3 then he can not perform any operation as there is no car with profit greater than 3.Profit he makes is 3.\n",
        "\n",
        "Suppose he sells a car with profit 2.On next operation he can sell a car for profit 3 as 3 is only available choice.After that he has to terminate.Profit he can make is 2+3=5.\n",
        "\n",
        "If he sells a car at profit 1 then on next he has two choices {2,3} if he sells the next car at 3.He has to terminate and the profit he makes is 4.While If he sells a car at profit 2 on next day he can make another move and sell the car at price 3 so total profit:1+2+3=6 which is highest he can make.  "
      ]
    },
    {
      "cell_type": "code",
      "metadata": {
        "id": "gsPTYUoTM5z0",
        "colab_type": "code",
        "colab": {}
      },
      "source": [
        "def profit_by_car():\n",
        "  print(\"Profit by Cars\")\n",
        "  n = int(input(\"No of cars:  \"))\n",
        "  # TAKE N NO OF INPUTS FROM USER AND STORE IT IN A LIST\n",
        "  profit= [int(x) for x in input(\"Profits:  :  \").split(\" \")]\n",
        "  if len(profit) != n:   \n",
        "    raise Exception(\"Invalid input\")\n",
        "  # MAXIMUM PROFIT FOR N, FROM P1...PN = SUM OF INDIVIDUAL/UNIQUE VALUE OF Pi WHERE i = 1 to N  \n",
        "  # REMOVING DUPLICATE VALUES (if any)\n",
        "  prof_value = list(set(profit))\n",
        "  #  RETURN SUM OF VALUES \n",
        "  return sum(prof_value)\n",
        " "
      ],
      "execution_count": 11,
      "outputs": []
    },
    {
      "cell_type": "markdown",
      "metadata": {
        "id": "h11-HsCVJ2w5",
        "colab_type": "text"
      },
      "source": [
        "# Question 2 : Unsafe elements in a matrix"
      ]
    },
    {
      "cell_type": "markdown",
      "metadata": {
        "id": "OFLHpXkkJpSn",
        "colab_type": "text"
      },
      "source": [
        "## Problem\n",
        "You have a matrix ***S*** consisting of ***N*** rows and ***M*** columns. Let ***u*** be the maximum element of the matrix and ***v*** be the smallest element of the matrix. If any element whose value is equal to ***u*** or ***v*** are called unsafe elements and they disfigure the complete row and column of the matrix. More formally, if any element is equal to ***u*** or ***v*** and contains cell number ***(x,y)***, that is, ***S[x][y] = u*** or ***S[x][y] = v*** are unsafe so that they also disfigure all the cells that have row ***x*** or column ***y*** and also are unsafe.\n",
        "\n",
        "Your task is to find the number of safe elements.\n",
        "\n",
        "## Input format\n",
        "The first line of each test case consists of two space-separated integers N and M.\n",
        "Next N lines consist of M space-separated integers.\n",
        "\n",
        "## Output format\n",
        "For each test case, print a single integer denoting the safe elements."
      ]
    },
    {
      "cell_type": "code",
      "metadata": {
        "id": "LU2_mXHxJAk7",
        "colab_type": "code",
        "colab": {}
      },
      "source": [
        "def unsafe_elements():\n",
        "  print(\"Unsafe elements in a matrix\")\n",
        "  # INPUT DIMENSIONS OF MATRIX\n",
        "  n, m=[int(x) for x in input(\"Dimensions:  \").split(\" \")]\n",
        "  # INPUT MATRIX VALUES\n",
        "  arr =[]\n",
        "  for i in range(n):\n",
        "    arr.append([int(x) for x in input(\"Values:  \").split(\" :  \")])\n",
        "    if len(arr[i]) != m:\n",
        "      raise Exception(\"Invalid input\")\n",
        "  # GET THE MAXIMUM AND MINIMUM VALUES (U & V) AND STORE THEIR COORDINATES IN x_u, y_u, x_v, y_v.\n",
        "  u = max(max(arr))   #max\n",
        "  v = min(min(arr))   #min\n",
        "  for i in range(n):\n",
        "    for j in range(m):\n",
        "      if arr[i][j] >= u:\n",
        "        u = arr[i][j]\n",
        "        x_u = i\n",
        "        y_u = j\n",
        "      if arr[i][j] <= v:\n",
        "        v = arr[i][j]\n",
        "        x_v = i\n",
        "        y_v = j    \n",
        "  # COUNT NO OF ELEMENTS NOT IN ROWS x_u, x_v, OR COLUMNS y_u, y_v := SAFE ELEMENTS\n",
        "  count = 0\n",
        "  for i in range(n):\n",
        "    if i in [x_u, x_v]:\n",
        "      continue\n",
        "    for j in range(m):\n",
        "      if j in [y_u, y_v]:\n",
        "        continue\n",
        "      else:\n",
        "        count+=1\n",
        "  # RETURN NO OF SAFE ELEMENTS\n",
        "  return (count)"
      ],
      "execution_count": 12,
      "outputs": []
    },
    {
      "cell_type": "markdown",
      "metadata": {
        "id": "rKg9NrifP13B",
        "colab_type": "text"
      },
      "source": [
        "# Question 3: Minimum moves"
      ]
    },
    {
      "cell_type": "markdown",
      "metadata": {
        "id": "zcW_9oCkP1XQ",
        "colab_type": "text"
      },
      "source": [
        "You want to reach a destination but you decide that you can make moves in two directions only. If you are at position ***(x, y)***, then you can move to ***(x+1, y+1)*** or ***(x+1, y)***. You must start your journey from  and your destination is ***(X, Y)***. Your task is to find the minimum number of moves that you require to reach the destination or if he cannot reach the destination.\n",
        "\n",
        "## Input format\n",
        "\n",
        "For each test case, there is a single line consisting of two integers X and Y.\n",
        "## Output format\n",
        "For each test case, print a single line denoting the minimum number of moves that you must take to reach the destination. Print -1 if you cannot reach the destination."
      ]
    },
    {
      "cell_type": "code",
      "metadata": {
        "id": "q7_4gmP4P0gK",
        "colab_type": "code",
        "colab": {}
      },
      "source": [
        "def minimum_moves():\n",
        "  print(\"Minimum Moves\")\n",
        "  x, y=[int(x) for x in input(\"Initial coordinate:  \").split(\" \")]\n",
        "  steps = 0\n",
        "  # PRINT -1 WHEN MOVE IS NOT POSSIBLE\n",
        "  #  SINCE X AND Y CAN ONLY MOVE IN X+1 OR Y+1 =>> IT CAN'T GO TO NEGATIVE COORDINATES \n",
        "  #  SINCE POSSIBLE MOVES ARE (X+1,Y) OR (X+1,Y+1) =>> Y CAN BE < OR = X\n",
        "  if(y>x or y<0 or x<0):\n",
        "      return (-1)\n",
        "  else:\n",
        "    # THERE CAN MAX Y NO OF (X+1, Y+1) MOVES\n",
        "      steps = y\n",
        "      x= x-y\n",
        "      y = 0\n",
        "    # REMAINING ARE (X-Y) NO OF (X+1, Y) MOVES\n",
        "      steps += x\n",
        "      return (steps)"
      ],
      "execution_count": 13,
      "outputs": []
    },
    {
      "cell_type": "markdown",
      "metadata": {
        "id": "a4XPTLPqQ5Bn",
        "colab_type": "text"
      },
      "source": [
        "# Question 4: A TV Remote"
      ]
    },
    {
      "cell_type": "markdown",
      "metadata": {
        "id": "an3JU7c_Q_7I",
        "colab_type": "text"
      },
      "source": [
        "There is a TV remote that contains three buttons:\n",
        "\n",
        "1.   Next channel\n",
        "2.   Previous channel\n",
        "3.   Volume Change\n",
        "\n",
        "Find the number of ways such that after N clicks on the remote you remain on the same channel.\n",
        "\n",
        "You can assume there are infinite channels.\n",
        "\n",
        "Since the answer can be too large, print answer modulo 1000000007.\n",
        "## Input format\n",
        "The first line of each test case contains a single integer N.\n",
        "## Output format\n",
        "For each test case, print the number of ways modulo 1000000007 in a single line."
      ]
    },
    {
      "cell_type": "code",
      "metadata": {
        "id": "TN0W1gobdw8a",
        "colab_type": "code",
        "colab": {}
      },
      "source": [
        "from itertools import permutations\n",
        "\n",
        "def permute(n):\n",
        "  #  RECURSION ENDING FUNCTION\n",
        "  if n==0 :\n",
        "    return 1\n",
        "  count = 0\n",
        "  li =[]\n",
        "  #  CREATE LIST OF POSSIBLE COMBINATIONS OF KEYS (WITHOUT VOLUME)\n",
        "  for i in range(n//2):\n",
        "    li.append(1)\n",
        "    li.append(2)\n",
        "  # PERMUTATION OF LIST CREATED => NO OF WAYS OF SELECTION\n",
        "  perm = permutations(li)\n",
        "  # REMOVING DUPLICATES\n",
        "  res = [] \n",
        "  [res.append(x) for x in perm if x not in res] \n",
        "  # COUNTING NO OF WAYS\n",
        "  for i in list(res): \n",
        "    count+=1\n",
        "    # print(\"ways :\" + str(i))\n",
        "  return count + permute(n-2)"
      ],
      "execution_count": 14,
      "outputs": []
    },
    {
      "cell_type": "code",
      "metadata": {
        "id": "CvgmrqbDQ_S4",
        "colab_type": "code",
        "colab": {}
      },
      "source": [
        "def tv_remote():\n",
        "  print(\"TV Remote\")\n",
        "  n = int(input(\"No of clicks:  \"))\n",
        "  # N CANNOT BE LESS THAN 1\n",
        "  if n<1:\n",
        "    print(\"invalid\")\n",
        "  # N AND N+1 WILL GIVE SAME NO OF MOVES EG. 2 -> 3 MOVES ; 3 -> 3 MOVES\n",
        "  if n%2 == 0:\n",
        "    return (permute(n))\n",
        "  else:\n",
        "    return (permute(n-1))"
      ],
      "execution_count": 15,
      "outputs": []
    },
    {
      "cell_type": "markdown",
      "metadata": {
        "id": "CKK3AZwzSJI-",
        "colab_type": "text"
      },
      "source": [
        "# Question 5: Arrays and sums"
      ]
    },
    {
      "cell_type": "markdown",
      "metadata": {
        "id": "P5CvuFn4SJFi",
        "colab_type": "text"
      },
      "source": [
        "You are given an array of elements . If you are considering index , then you contain a set  of all elements whose index is not equal to . Your task is to find out if you can express  as the sum of subsets of .\n",
        "\n",
        "***For example,*** you have 8 elements such as 1,2,3,4,5,6,7,8 and you consider index 3. Therefore, set S is {1,2,4,5,6,7,8} because you have to exclude the element at index i. The answer is **Yes** because you select subset {1,2} and its sum is 3. Suppose, if you consider index 8, then set S is {1,2,3,4,5,6,7}. The answer is **Yes** because you can select {1,2,5}, {3,5}, {2,6} or {1,3,4}.\n",
        "\n",
        "Similarly, the answer for i=2 is **No** because set S is {1, 3, 4, 5, 6, 7, 8} and there is no possible way such that you can select a subset and have sum 2.\n",
        "\n",
        "Note that you can select no more times than it occurs in set S.\n",
        "\n",
        "You are given array A. For every index, your task is to determine if it is possible for index i from 1 to N.\n",
        "\n",
        "## Input format\n",
        "The first line of each test case contains an integer N.\n",
        "The second line of each test case contains N space-separated integers A1, A2,..., AN.\n",
        "## Output format\n",
        "For each test case, print a single line consisting of N space-separated integers (0 or 1). Print 0 if it is not possible and 1 if it is possible."
      ]
    },
    {
      "cell_type": "code",
      "metadata": {
        "id": "CAAlkZFLw7ZX",
        "colab_type": "code",
        "colab": {}
      },
      "source": [
        "from itertools import combinations\n",
        "\n",
        "def sum_count(arr, sum_num):\n",
        "  comb = []\n",
        "  #  FINDING COMBINATION OF (arr,i) WHERE i: 2-> LENGTH OF ARRAY =>> nC2, nC3, nC4... SO ON\n",
        "  for i in range(2, len(arr)):\n",
        "    c = list(combinations(arr, i))\n",
        "    # FOR EVERY POSSIBLE COMBINATION IF SUM OF COMBINATION IS EQUAL TO THE SUM_NUM THEN ANSWER = YES & FUNCTION RETURNS 1\n",
        "    for i in c:\n",
        "      if sum(i) == sum_num:\n",
        "        return 1\n",
        "  # IF SUM OF EVERY POSSIBLE COMBINATION OF SUBSET DOESN'T EQUATE TO SYM_NUM , ANSWER = NO & FUNCTION RETURNS 0\n",
        "  return 0"
      ],
      "execution_count": 16,
      "outputs": []
    },
    {
      "cell_type": "code",
      "metadata": {
        "id": "fPA0FdniSISb",
        "colab_type": "code",
        "colab": {}
      },
      "source": [
        "def arrays_sum():\n",
        "  # TAKE N NO OF INPUTS FROM USER AND STORE IT IN A LIST\n",
        "  print(\"Arrays and Sums\")\n",
        "  n = int(input(\"Size of array:  \"))\n",
        "  array = [int(x) for x in input(\"Array elements: \").split(\" \")]\n",
        "  if len(array) != n:   \n",
        "    raise Exception(\"Invalid input\")\n",
        "  result = []\n",
        "  # CHECKING FOR EVERY VALUE IN THE ARRAY\n",
        "  for i in array:\n",
        "    # CREATE A NEW ARRAY, COPY OF ORIGINAL ARRAY AND REMOVE THE VALUE\n",
        "    new_arr = array.copy()\n",
        "    new_arr.remove(i)\n",
        "    # CHECK IF VALUE = SUM OF DIGITS IN A SUBSET AND APPEND THE RESULT IN THE LIST\n",
        "    new = sum_count(new_arr, i)\n",
        "    result.append(new)\n",
        "  return result"
      ],
      "execution_count": 17,
      "outputs": []
    },
    {
      "cell_type": "markdown",
      "metadata": {
        "id": "JOmYXLHoU-3S",
        "colab_type": "text"
      },
      "source": [
        "# Question 6: Minimum power loss\n"
      ]
    },
    {
      "cell_type": "markdown",
      "metadata": {
        "id": "8O5Tdsk3VJop",
        "colab_type": "text"
      },
      "source": [
        "There are two friends who live in a city. The city consists of N buildings that are numbered from 1 to N from left to right. One day, another friend starts coming to the city. On each ith day, this friend is found in a building Ai. It is the duty of two friends to bring home the third friend. Now, one of the friends goes to that building and bring the third friend home. While moving from one building to another building, the two friends lose some power.\n",
        "\n",
        "For example, if one of these friends moves from building b1 to building b2, then the loss of power is equal to |b2-b1|. Here, |c-d| means the absolute difference  between c and d.\n",
        "\n",
        "This continued for D days. Initially, the friends are at building X and Y and when a friend brings home another friend at building bi, then he stays there.\n",
        "\n",
        "Now, these friends need your help in calculating the total minimum power loss.\n",
        "\n",
        "Note: You cannot skip searching for the friend on any of the days.\n",
        "\n",
        "## Input format\n",
        "\n",
        "*   The first line contains four integers N, D, X, and Y where N is the number of buildings in the city, D is the number of Days for which the search continues, and X and Y are the initial building number of two friends.\n",
        "*   The second line contains D integers where the ith integer Ai is the building number in which the third friend is found on the ith day.\n",
        "\n",
        "## Output format\n",
        "\n",
        "Print the single integer denoting the minimum total amount of power loss after all D days."
      ]
    },
    {
      "cell_type": "code",
      "metadata": {
        "id": "J8AKKGwIVIvz",
        "colab_type": "code",
        "colab": {}
      },
      "source": [
        "def minimum_power_loss():\n",
        "  print(\"Minimum power loss\")\n",
        "  n, d, x, y = [int(a) for a in input(\"Building numbers, No of days, Building of 1st friend, Building of 2nd friend\").split()]\n",
        "  b = [int(a) for a in input(\"Buildings in each day\").split()]\n",
        "  if len(b) != d:   \n",
        "    raise Exception(\"Invalid input\")\n",
        "  power = 0\n",
        "  for i in range(d):\n",
        "    if abs(x-b[i]) < abs(y-b[i]):\n",
        "      power += abs(x-b[i])\n",
        "      x = b[i]\n",
        "    else:\n",
        "      power += abs(y-b[i])\n",
        "      y = b[i]\n",
        "  return (power)"
      ],
      "execution_count": 18,
      "outputs": []
    },
    {
      "cell_type": "markdown",
      "metadata": {
        "id": "nLIc6h72mw6E",
        "colab_type": "text"
      },
      "source": [
        "# Calling the functions"
      ]
    },
    {
      "cell_type": "code",
      "metadata": {
        "id": "1-8SpwqElsE0",
        "colab_type": "code",
        "colab": {
          "base_uri": "https://localhost:8080/",
          "height": 187
        },
        "outputId": "84cc348a-3b33-4f7a-ec37-f58cb51e2abd"
      },
      "source": [
        "question = [profit_by_car, unsafe_elements,minimum_moves , tv_remote, arrays_sum,minimum_power_loss]\n",
        "print(\"1. Profit by Cars\\n2. Unsafe elements\\n3. Minimum moves\\n4. TV Remote\\n5. Arrays and Sums\\n6. Minimum Power Loss\")\n",
        "i = int(input(\"Select a question:\"))\n",
        "i-=1\n",
        "\n",
        "print(question[i]())"
      ],
      "execution_count": 20,
      "outputs": [
        {
          "output_type": "stream",
          "text": [
            "1. Profit by Cars\n",
            "2. Unsafe elements\n",
            "3. Minimum moves\n",
            "4. TV Remote\n",
            "5. Arrays and Sums\n",
            "6. Minimum Power Loss\n",
            "Select a question:3\n",
            "Minimum Moves\n",
            "Initial coordinate:  4 2\n",
            "4\n"
          ],
          "name": "stdout"
        }
      ]
    },
    {
      "cell_type": "code",
      "metadata": {
        "id": "WzW9BIi1nvVW",
        "colab_type": "code",
        "colab": {}
      },
      "source": [
        ""
      ],
      "execution_count": 19,
      "outputs": []
    }
  ]
}