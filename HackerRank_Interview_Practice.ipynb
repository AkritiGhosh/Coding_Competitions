{
  "nbformat": 4,
  "nbformat_minor": 0,
  "metadata": {
    "colab": {
      "name": "HackerRank Interview Practice.ipynb",
      "provenance": [],
      "collapsed_sections": [],
      "authorship_tag": "ABX9TyMYkVWp4MlsY9/DU65nurzv",
      "include_colab_link": true
    },
    "kernelspec": {
      "name": "python3",
      "display_name": "Python 3"
    },
    "language_info": {
      "name": "python"
    }
  },
  "cells": [
    {
      "cell_type": "markdown",
      "metadata": {
        "id": "view-in-github",
        "colab_type": "text"
      },
      "source": [
        "<a href=\"https://colab.research.google.com/github/AkritiGhosh/Coding_Competitions/blob/master/HackerRank_Interview_Practice.ipynb\" target=\"_parent\"><img src=\"https://colab.research.google.com/assets/colab-badge.svg\" alt=\"Open In Colab\"/></a>"
      ]
    },
    {
      "cell_type": "markdown",
      "metadata": {
        "id": "U_vAdJ3e_pqS"
      },
      "source": [
        "# QUESTION 1"
      ]
    },
    {
      "cell_type": "markdown",
      "metadata": {
        "id": "ZjTfMB8j_pRJ"
      },
      "source": [
        "Given an array. Merge consecutive integer range of 3 or more into {first} -{last} format\n",
        "\n",
        "Input: [-3,-2,-1,5,6,7,9,11,12,13,15,16]\n",
        "\n",
        "output: -3--1,5-7,9,11-13,15,16"
      ]
    },
    {
      "cell_type": "code",
      "metadata": {
        "colab": {
          "base_uri": "https://localhost:8080/"
        },
        "id": "B_o-mckFCK10",
        "outputId": "b081cb8c-3a27-43ed-b25e-90c9dd9d9522"
      },
      "source": [
        "# a =  [int(x) for x in input().split(\",\")]\n",
        "a = [-3,-2,-1,5,6,7,9,11,12,13,15,16]\n",
        "a = list(set(a))\n",
        "a.sort()\n",
        "#print(a)\n",
        "output = \"\"\n",
        "ol = []\n",
        "i = 0\n",
        "# Continous numbers in a list \n",
        "while i < len(a)-1:\n",
        "  lst = [a[i]]\n",
        "  j = i\n",
        "  while j<len(a)-1 and a[j+1] -a[j] == 1:\n",
        "    lst.append(a[j+1])\n",
        "    j = j+1\n",
        "  ol.append(lst)\n",
        "  i=j+1\n",
        "print(ol)\n",
        "\n",
        "# Convert list of lists into a string\n",
        "for i in ol:\n",
        "  if len(i) > 2: # If 3 or more consecutive number => merge\n",
        "    output+=str(i[0]) + \"-\" + str(i[-1]) + \",\"\n",
        "  elif len(i) == 2:\n",
        "    output += str(i[0]) + \",\" + str(i[1]) + \",\" # if 2 consecutive numbers => separated by comma\n",
        "  else:\n",
        "    output += str(i[0]) + \",\" # No consecutive number => single value\n",
        "output = output[:-1]  # Remove extra , at end\n",
        "print(output)"
      ],
      "execution_count": 30,
      "outputs": [
        {
          "output_type": "stream",
          "text": [
            "[[-3, -2, -1], [5, 6, 7], [9], [11, 12, 13], [15, 16]]\n",
            "-3--1,5-7,9,11-13,15,16\n"
          ],
          "name": "stdout"
        }
      ]
    },
    {
      "cell_type": "markdown",
      "metadata": {
        "id": "x-2r1gY49K3m"
      },
      "source": [
        "\\# QUESTION 2"
      ]
    },
    {
      "cell_type": "markdown",
      "metadata": {
        "id": "NCAysZgc5qoY"
      },
      "source": [
        "Two types of US phone numbers\n",
        "\n",
        "\n",
        "1.   ddd-ddd-dddd\n",
        "2.   (ddd) ddd-dddd\n",
        "\n",
        "\n",
        "\n",
        "Search these patterns in the given string and return the first one found, else return \"NONE\"\n",
        "\n",
        "\n"
      ]
    },
    {
      "cell_type": "code",
      "metadata": {
        "id": "rnpQ1U5wmvgS"
      },
      "source": [
        "import re"
      ],
      "execution_count": null,
      "outputs": []
    },
    {
      "cell_type": "code",
      "metadata": {
        "id": "VqmE1JlU6gUm"
      },
      "source": [
        "def check_type(txt, start, end):\n",
        "  # pattern 1 \n",
        "  if (txt[start+4] == \"-\"):\n",
        "    print(txt[start+1:end+1])\n",
        "  # pattern 2\n",
        "  elif (txt[start] == \"(\" and txt[start+4]==\")\"):\n",
        "    print(txt[start:end+1])\n",
        "  else:\n",
        "    # neither\n",
        "    print(\"NONE\")"
      ],
      "execution_count": null,
      "outputs": []
    },
    {
      "cell_type": "code",
      "metadata": {
        "id": "BOTAGH8BrmlT",
        "colab": {
          "base_uri": "https://localhost:8080/"
        },
        "outputId": "aeb72ba5-e3d6-4eee-efc6-3337065afef1"
      },
      "source": [
        "text = str(input())\n",
        "num = re.search(\"\\d{3}.\\d{3}-\\d{4}\", text)\n",
        "\n",
        "if num:\n",
        "  start = (num.start())\n",
        "  check_type(text, start-1, start+11)\n",
        "else: \n",
        "  print('NONE')\n"
      ],
      "execution_count": null,
      "outputs": [
        {
          "output_type": "stream",
          "text": [
            "num = (123)456-6789\n",
            "(123)456-6789\n"
          ],
          "name": "stdout"
        }
      ]
    },
    {
      "cell_type": "markdown",
      "metadata": {
        "id": "Xznhqwot-90Z"
      },
      "source": [
        "# Question 3"
      ]
    },
    {
      "cell_type": "markdown",
      "metadata": {
        "id": "PkHArU1V_XPC"
      },
      "source": [
        "Given an input integer n, count natural numbers in range [1, n] whose all permutations are greater than or equal to the number itself.\n",
        "\n",
        "INPUT :-\n",
        "21\n",
        "\n",
        "OUTPUT :-\n",
        "18"
      ]
    },
    {
      "cell_type": "code",
      "metadata": {
        "id": "5nBk8exe6rmJ",
        "colab": {
          "base_uri": "https://localhost:8080/"
        },
        "outputId": "8fbf2f06-c6eb-4543-d76c-226e1c1ee23f"
      },
      "source": [
        "n = int(input())\n",
        "count = 0\n",
        "for i in range(1,n+1):\n",
        "  if i//10 <= i%10: # If value in tens place is less than equal to value in ones place Then it's permutation(reverse) would be greater than equal to number itself\n",
        "    count +=1\n",
        "print(count)"
      ],
      "execution_count": 37,
      "outputs": [
        {
          "output_type": "stream",
          "text": [
            "8\n",
            "1 2 3 4 5 6 7 8 8\n"
          ],
          "name": "stdout"
        }
      ]
    },
    {
      "cell_type": "code",
      "metadata": {
        "id": "eIZPJfr9Awf4"
      },
      "source": [
        ""
      ],
      "execution_count": null,
      "outputs": []
    }
  ]
}