{
  "nbformat": 4,
  "nbformat_minor": 0,
  "metadata": {
    "colab": {
      "name": "HackerRank Interview Practice.ipynb",
      "provenance": [],
      "collapsed_sections": [],
      "authorship_tag": "ABX9TyMC4nQTUyiuU8IYcADtls8/",
      "include_colab_link": true
    },
    "kernelspec": {
      "name": "python3",
      "display_name": "Python 3"
    },
    "language_info": {
      "name": "python"
    }
  },
  "cells": [
    {
      "cell_type": "markdown",
      "metadata": {
        "id": "view-in-github",
        "colab_type": "text"
      },
      "source": [
        "<a href=\"https://colab.research.google.com/github/AkritiGhosh/Coding_Competitions/blob/master/HackerRank_Interview_Practice.ipynb\" target=\"_parent\"><img src=\"https://colab.research.google.com/assets/colab-badge.svg\" alt=\"Open In Colab\"/></a>"
      ]
    },
    {
      "cell_type": "markdown",
      "metadata": {
        "id": "U_vAdJ3e_pqS"
      },
      "source": [
        "# QUESTION 1"
      ]
    },
    {
      "cell_type": "markdown",
      "metadata": {
        "id": "ZjTfMB8j_pRJ"
      },
      "source": [
        "Given an array. Merge consecutive integer range of 3 or more into {first} -{last} format\n",
        "\n",
        "Input: [-3,-2,-1,5,6,7,9,11,12,13,15,16]\n",
        "\n",
        "output: -3--1,5-7,9,11-13,15,16"
      ]
    },
    {
      "cell_type": "code",
      "metadata": {
        "colab": {
          "base_uri": "https://localhost:8080/"
        },
        "id": "B_o-mckFCK10",
        "outputId": "b081cb8c-3a27-43ed-b25e-90c9dd9d9522"
      },
      "source": [
        "# a =  [int(x) for x in input().split(\",\")]\n",
        "a = [-3,-2,-1,5,6,7,9,11,12,13,15,16]\n",
        "a = list(set(a))\n",
        "a.sort()\n",
        "#print(a)\n",
        "output = \"\"\n",
        "ol = []\n",
        "i = 0\n",
        "# Continous numbers in a list \n",
        "while i < len(a)-1:\n",
        "  lst = [a[i]]\n",
        "  j = i\n",
        "  while j<len(a)-1 and a[j+1] -a[j] == 1:\n",
        "    lst.append(a[j+1])\n",
        "    j = j+1\n",
        "  ol.append(lst)\n",
        "  i=j+1\n",
        "print(ol)\n",
        "\n",
        "# Convert list of lists into a string\n",
        "for i in ol:\n",
        "  if len(i) > 2: # If 3 or more consecutive number => merge\n",
        "    output+=str(i[0]) + \"-\" + str(i[-1]) + \",\"\n",
        "  elif len(i) == 2:\n",
        "    output += str(i[0]) + \",\" + str(i[1]) + \",\" # if 2 consecutive numbers => separated by comma\n",
        "  else:\n",
        "    output += str(i[0]) + \",\" # No consecutive number => single value\n",
        "output = output[:-1]  # Remove extra , at end\n",
        "print(output)"
      ],
      "execution_count": 30,
      "outputs": [
        {
          "output_type": "stream",
          "text": [
            "[[-3, -2, -1], [5, 6, 7], [9], [11, 12, 13], [15, 16]]\n",
            "-3--1,5-7,9,11-13,15,16\n"
          ],
          "name": "stdout"
        }
      ]
    },
    {
      "cell_type": "markdown",
      "metadata": {
        "id": "x-2r1gY49K3m"
      },
      "source": [
        "# QUESTION 2"
      ]
    },
    {
      "cell_type": "markdown",
      "metadata": {
        "id": "NCAysZgc5qoY"
      },
      "source": [
        "Two types of US phone numbers\n",
        "\n",
        "\n",
        "1.   ddd-ddd-dddd\n",
        "2.   (ddd) ddd-dddd\n",
        "\n",
        "\n",
        "\n",
        "Search these patterns in the given string and return the first one found, else return \"NONE\"\n",
        "\n",
        "\n"
      ]
    },
    {
      "cell_type": "code",
      "metadata": {
        "id": "rnpQ1U5wmvgS"
      },
      "source": [
        "import re"
      ],
      "execution_count": null,
      "outputs": []
    },
    {
      "cell_type": "code",
      "metadata": {
        "id": "VqmE1JlU6gUm"
      },
      "source": [
        "def check_type(txt, start, end):\n",
        "  # pattern 1 \n",
        "  if (txt[start+4] == \"-\"):\n",
        "    print(txt[start+1:end+1])\n",
        "  # pattern 2\n",
        "  elif (txt[start] == \"(\" and txt[start+4]==\")\"):\n",
        "    print(txt[start:end+1])\n",
        "  else:\n",
        "    # neither\n",
        "    print(\"NONE\")"
      ],
      "execution_count": null,
      "outputs": []
    },
    {
      "cell_type": "code",
      "metadata": {
        "id": "BOTAGH8BrmlT",
        "colab": {
          "base_uri": "https://localhost:8080/"
        },
        "outputId": "aeb72ba5-e3d6-4eee-efc6-3337065afef1"
      },
      "source": [
        "text = str(input())\n",
        "num = re.search(\"\\d{3}.\\d{3}-\\d{4}\", text)\n",
        "\n",
        "if num:\n",
        "  start = (num.start())\n",
        "  check_type(text, start-1, start+11)\n",
        "else: \n",
        "  print('NONE')\n"
      ],
      "execution_count": null,
      "outputs": [
        {
          "output_type": "stream",
          "text": [
            "num = (123)456-6789\n",
            "(123)456-6789\n"
          ],
          "name": "stdout"
        }
      ]
    },
    {
      "cell_type": "markdown",
      "metadata": {
        "id": "Xznhqwot-90Z"
      },
      "source": [
        "# Question 3"
      ]
    },
    {
      "cell_type": "markdown",
      "metadata": {
        "id": "PkHArU1V_XPC"
      },
      "source": [
        "Given an input integer n, count natural numbers in range [1, n] whose all permutations are greater than or equal to the number itself.\n",
        "\n",
        "INPUT :-\n",
        "21\n",
        "\n",
        "OUTPUT :-\n",
        "18"
      ]
    },
    {
      "cell_type": "code",
      "metadata": {
        "id": "5nBk8exe6rmJ",
        "colab": {
          "base_uri": "https://localhost:8080/"
        },
        "outputId": "8fbf2f06-c6eb-4543-d76c-226e1c1ee23f"
      },
      "source": [
        "n = int(input())\n",
        "count = 0\n",
        "for i in range(1,n+1):\n",
        "  if i//10 <= i%10: # If value in tens place is less than equal to value in ones place Then it's permutation(reverse) would be greater than equal to number itself\n",
        "    count +=1\n",
        "print(count)"
      ],
      "execution_count": 37,
      "outputs": [
        {
          "output_type": "stream",
          "text": [
            "8\n",
            "1 2 3 4 5 6 7 8 8\n"
          ],
          "name": "stdout"
        }
      ]
    },
    {
      "cell_type": "markdown",
      "metadata": {
        "id": "fUmDDbsgC4ma"
      },
      "source": [
        "# Question 4"
      ]
    },
    {
      "cell_type": "markdown",
      "metadata": {
        "id": "HzdF-zGzDANC"
      },
      "source": [
        "A secret language is a derived language in which every English alphabet is replaced by another string.\n",
        "For example, there could be some language in which\n",
        "\n",
        "\n",
        "* a maps to “.-”\n",
        "* b maps to “-…”\n",
        "* c maps to “-.-.”\n",
        "* d maps to “-..”\n",
        "\n",
        "\n",
        "Any word in a secret language can be written as a concatenation of the secret code of each letter. e.g. “bad” can be written as “-….–..”. Let this new string be called a secret code of the string “bad”.\n",
        "\n",
        "---\n",
        "\n",
        "**QUESTION**\n",
        "\n",
        "Given a list of words, return the number of unique secret codes that can be found in our list.\n",
        "\n",
        "INPUT :-\n",
        "\n",
        "secret_mapping = [“b”, “b”, “d”, “d”, “f”, “f”, “f”, “h”, “j”, “j”, “l”, “l”, “n”, “n”, “p”, “p”, “r”, “r”, “t”, “t”, “v”, “v”, “x”, “x”, “z”, “z”]\n",
        "\n",
        "word_list = [“food”, “good”, “zap”, “yap”]\n",
        "\n",
        "OUTPUT :-\n",
        "2"
      ]
    },
    {
      "cell_type": "code",
      "metadata": {
        "id": "eIZPJfr9Awf4"
      },
      "source": [
        "def encypt(word, code):\n",
        "  msg = \"\"\n",
        "  for ch in word:\n",
        "    msg += code[ord(ch) - ord('a')]\n",
        "  return msg"
      ],
      "execution_count": 38,
      "outputs": []
    },
    {
      "cell_type": "code",
      "metadata": {
        "colab": {
          "base_uri": "https://localhost:8080/"
        },
        "id": "l7UMNpUeEKTP",
        "outputId": "9e88606e-77b9-402a-b36f-72e331ea7215"
      },
      "source": [
        "secret_mapping = ['b', 'b', 'd', 'd', 'f', 'f', 'f', 'h', 'j', 'j', 'l', 'l', 'n', 'n', 'p', 'p', 'r', 'r', 't', 't', 'v', 'v', 'x', 'x', 'z', 'z']\n",
        "word_list = ['food', 'good', 'zap', 'yap']\n",
        "\n",
        "code_list = []\n",
        "# Encrypt each word and store it in a list\n",
        "for word in word_list:\n",
        "  code_list.append(encypt(word, secret_mapping))\n",
        "# Keep only unique elements\n",
        "code_list = list(set(code_list))\n",
        "print(len(code_list))"
      ],
      "execution_count": 42,
      "outputs": [
        {
          "output_type": "stream",
          "text": [
            "2\n"
          ],
          "name": "stdout"
        }
      ]
    },
    {
      "cell_type": "markdown",
      "metadata": {
        "id": "8A1l6nhJJC_a"
      },
      "source": [
        "# Question 5"
      ]
    },
    {
      "cell_type": "markdown",
      "metadata": {
        "id": "NNOKnJKXJF6z"
      },
      "source": [
        "N jars, each containing a certain number of cookies, are placed in a line. You can pick any jar and eat all the cookies in it. However, you are not allowed to pick any two consecutive jars.\n",
        "\n",
        "Given a list of non-negative integers representing the number of cookies in each jar, determine the maximum number of cookies that you can eat under the constraint.\n",
        "\n",
        "INPUT :-\n",
        "[12, 27, 19, 13, 11]\n",
        "\n",
        "OUTPUT :-\n",
        "42"
      ]
    },
    {
      "cell_type": "markdown",
      "metadata": {
        "id": "BX2Dj1ud6FTi"
      },
      "source": [
        "[Hint] - Solution & Explanation of similar question - https://www.geeksforgeeks.org/find-maximum-possible-stolen-value-houses/"
      ]
    },
    {
      "cell_type": "code",
      "metadata": {
        "id": "8RqLdUu55pFr"
      },
      "source": [
        "# calculate the maximum stolen value\n",
        "def max_cookies(jars, n):\n",
        "    if n == 0:\n",
        "        return 0\n",
        " \n",
        "    value1 = jars[0]\n",
        "    if n == 1:\n",
        "        return value1\n",
        " \n",
        "    value2 = max(jars[0], jars[1])\n",
        "    if n == 2:\n",
        "        return value2\n",
        " \n",
        "    # contains maximum stolen value at the end\n",
        "    max_val = None\n",
        " \n",
        "    # Fill remaining positions\n",
        "    for i in range(2, n):\n",
        "        max_val = max(jars[i]+value1, value2)\n",
        "        value1 = value2\n",
        "        value2 = max_val\n",
        " \n",
        "    return max_val"
      ],
      "execution_count": 1,
      "outputs": []
    },
    {
      "cell_type": "code",
      "metadata": {
        "colab": {
          "base_uri": "https://localhost:8080/"
        },
        "id": "kT4eYbB9JTlH",
        "outputId": "2e09a1cf-26e4-48f6-f20a-f336edc0161a"
      },
      "source": [
        "a =  [int(x) for x in input().split(\",\")]\n",
        "# Value of houses\n",
        "# a = [12, 27, 19, 13, 11]\n",
        "\n",
        "# number of houses\n",
        "n = len(a)\n",
        "print(\"Maximum cookies value : {}\".format(max_cookies(a, n)))"
      ],
      "execution_count": 4,
      "outputs": [
        {
          "output_type": "stream",
          "text": [
            "25, 20, 6, 30, 4\n",
            "Maximum cookies value : 55\n"
          ],
          "name": "stdout"
        }
      ]
    },
    {
      "cell_type": "markdown",
      "metadata": {
        "id": "dYqCzoP9HJZr"
      },
      "source": [
        "# Question 6\n"
      ]
    },
    {
      "cell_type": "markdown",
      "metadata": {
        "id": "6vOWxounHN87"
      },
      "source": [
        "You are given an N * M board containing O’s and X’s. An O denotes empty space while an X denotes that a lego block is placed at that location.\n",
        "\n",
        "Two lego blocks are connected if they share an edge (must be adjacent horizontally or vertically, diagonals don’t count). A group of connected lego blocks which cannot be further extended by including any other connected lego block is called a lego wall.\n",
        "\n",
        "Return the number of unconnected lego walls on the board.\n",
        "\n",
        "INPUT :-\n",
        "```\n",
        "XOOXOOO\n",
        "XXOOOXO\n",
        "OXOOOXO\n",
        "```\n",
        "OUTPUT :-\n",
        "3"
      ]
    },
    {
      "cell_type": "code",
      "metadata": {
        "id": "QqWMbOxdF2WV"
      },
      "source": [
        "board = [['XOOXOOO'],['XXOOOXO'],['OXOOOXO']]\n"
      ],
      "execution_count": null,
      "outputs": []
    }
  ]
}